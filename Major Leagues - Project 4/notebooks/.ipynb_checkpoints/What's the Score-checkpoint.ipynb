{
 "cells": [
  {
   "cell_type": "markdown",
   "metadata": {},
   "source": [
    "# What's the Score - Project 4 - Data Science\n",
    "\n",
    "### Project Description\n",
    "#### The project is to evaluate the provided data soccer matches data set and predict the score for a team given the other features.\n",
    "\n",
    "### Dataset source\n",
    "#### https://github.com/fivethirtyeight/data/tree/master/soccer-spi"
   ]
  },
  {
   "cell_type": "code",
   "execution_count": 1,
   "metadata": {},
   "outputs": [],
   "source": [
    "# import required libraries\n",
    "from pandas import DataFrame, read_csv\n",
    "import pandas as pd \n",
    "import numpy as np\n",
    "import matplotlib.pyplot as plt"
   ]
  },
  {
   "cell_type": "markdown",
   "metadata": {},
   "source": [
    "### Read the data into dataframes for further manipulation"
   ]
  },
  {
   "cell_type": "code",
   "execution_count": 2,
   "metadata": {},
   "outputs": [],
   "source": [
    "matchesRaw = pd.read_csv('/Users/sdamaraju/PycharmProjects/IntroToDS-731/Major Leagues - Project 4/data/raw/spi_matches.csv')"
   ]
  },
  {
   "cell_type": "code",
   "execution_count": 3,
   "metadata": {},
   "outputs": [
    {
     "data": {
      "text/html": [
       "<div>\n",
       "<style scoped>\n",
       "    .dataframe tbody tr th:only-of-type {\n",
       "        vertical-align: middle;\n",
       "    }\n",
       "\n",
       "    .dataframe tbody tr th {\n",
       "        vertical-align: top;\n",
       "    }\n",
       "\n",
       "    .dataframe thead th {\n",
       "        text-align: right;\n",
       "    }\n",
       "</style>\n",
       "<table border=\"1\" class=\"dataframe\">\n",
       "  <thead>\n",
       "    <tr style=\"text-align: right;\">\n",
       "      <th></th>\n",
       "      <th>season</th>\n",
       "      <th>date</th>\n",
       "      <th>league_id</th>\n",
       "      <th>league</th>\n",
       "      <th>team1</th>\n",
       "      <th>team2</th>\n",
       "      <th>spi1</th>\n",
       "      <th>spi2</th>\n",
       "      <th>prob1</th>\n",
       "      <th>prob2</th>\n",
       "      <th>...</th>\n",
       "      <th>importance1</th>\n",
       "      <th>importance2</th>\n",
       "      <th>score1</th>\n",
       "      <th>score2</th>\n",
       "      <th>xg1</th>\n",
       "      <th>xg2</th>\n",
       "      <th>nsxg1</th>\n",
       "      <th>nsxg2</th>\n",
       "      <th>adj_score1</th>\n",
       "      <th>adj_score2</th>\n",
       "    </tr>\n",
       "  </thead>\n",
       "  <tbody>\n",
       "    <tr>\n",
       "      <th>0</th>\n",
       "      <td>2016</td>\n",
       "      <td>2016-07-09</td>\n",
       "      <td>7921</td>\n",
       "      <td>FA Women's Super League</td>\n",
       "      <td>Liverpool Women</td>\n",
       "      <td>Reading</td>\n",
       "      <td>51.56</td>\n",
       "      <td>50.42</td>\n",
       "      <td>0.4389</td>\n",
       "      <td>0.2767</td>\n",
       "      <td>...</td>\n",
       "      <td>NaN</td>\n",
       "      <td>NaN</td>\n",
       "      <td>2.0</td>\n",
       "      <td>0.0</td>\n",
       "      <td>NaN</td>\n",
       "      <td>NaN</td>\n",
       "      <td>NaN</td>\n",
       "      <td>NaN</td>\n",
       "      <td>NaN</td>\n",
       "      <td>NaN</td>\n",
       "    </tr>\n",
       "    <tr>\n",
       "      <th>1</th>\n",
       "      <td>2016</td>\n",
       "      <td>2016-07-10</td>\n",
       "      <td>7921</td>\n",
       "      <td>FA Women's Super League</td>\n",
       "      <td>Arsenal Women</td>\n",
       "      <td>Notts County Ladies</td>\n",
       "      <td>46.61</td>\n",
       "      <td>54.03</td>\n",
       "      <td>0.3572</td>\n",
       "      <td>0.3608</td>\n",
       "      <td>...</td>\n",
       "      <td>NaN</td>\n",
       "      <td>NaN</td>\n",
       "      <td>2.0</td>\n",
       "      <td>0.0</td>\n",
       "      <td>NaN</td>\n",
       "      <td>NaN</td>\n",
       "      <td>NaN</td>\n",
       "      <td>NaN</td>\n",
       "      <td>NaN</td>\n",
       "      <td>NaN</td>\n",
       "    </tr>\n",
       "    <tr>\n",
       "      <th>2</th>\n",
       "      <td>2016</td>\n",
       "      <td>2016-07-10</td>\n",
       "      <td>7921</td>\n",
       "      <td>FA Women's Super League</td>\n",
       "      <td>Chelsea FC Women</td>\n",
       "      <td>Birmingham City</td>\n",
       "      <td>59.85</td>\n",
       "      <td>54.64</td>\n",
       "      <td>0.4799</td>\n",
       "      <td>0.2487</td>\n",
       "      <td>...</td>\n",
       "      <td>NaN</td>\n",
       "      <td>NaN</td>\n",
       "      <td>1.0</td>\n",
       "      <td>1.0</td>\n",
       "      <td>NaN</td>\n",
       "      <td>NaN</td>\n",
       "      <td>NaN</td>\n",
       "      <td>NaN</td>\n",
       "      <td>NaN</td>\n",
       "      <td>NaN</td>\n",
       "    </tr>\n",
       "    <tr>\n",
       "      <th>3</th>\n",
       "      <td>2016</td>\n",
       "      <td>2016-07-16</td>\n",
       "      <td>7921</td>\n",
       "      <td>FA Women's Super League</td>\n",
       "      <td>Liverpool Women</td>\n",
       "      <td>Notts County Ladies</td>\n",
       "      <td>53.00</td>\n",
       "      <td>52.35</td>\n",
       "      <td>0.4289</td>\n",
       "      <td>0.2699</td>\n",
       "      <td>...</td>\n",
       "      <td>NaN</td>\n",
       "      <td>NaN</td>\n",
       "      <td>0.0</td>\n",
       "      <td>0.0</td>\n",
       "      <td>NaN</td>\n",
       "      <td>NaN</td>\n",
       "      <td>NaN</td>\n",
       "      <td>NaN</td>\n",
       "      <td>NaN</td>\n",
       "      <td>NaN</td>\n",
       "    </tr>\n",
       "    <tr>\n",
       "      <th>4</th>\n",
       "      <td>2016</td>\n",
       "      <td>2016-07-17</td>\n",
       "      <td>7921</td>\n",
       "      <td>FA Women's Super League</td>\n",
       "      <td>Chelsea FC Women</td>\n",
       "      <td>Arsenal Women</td>\n",
       "      <td>59.43</td>\n",
       "      <td>60.99</td>\n",
       "      <td>0.4124</td>\n",
       "      <td>0.3157</td>\n",
       "      <td>...</td>\n",
       "      <td>NaN</td>\n",
       "      <td>NaN</td>\n",
       "      <td>1.0</td>\n",
       "      <td>2.0</td>\n",
       "      <td>NaN</td>\n",
       "      <td>NaN</td>\n",
       "      <td>NaN</td>\n",
       "      <td>NaN</td>\n",
       "      <td>NaN</td>\n",
       "      <td>NaN</td>\n",
       "    </tr>\n",
       "  </tbody>\n",
       "</table>\n",
       "<p>5 rows × 23 columns</p>\n",
       "</div>"
      ],
      "text/plain": [
       "   season        date  league_id                   league             team1  \\\n",
       "0    2016  2016-07-09       7921  FA Women's Super League   Liverpool Women   \n",
       "1    2016  2016-07-10       7921  FA Women's Super League     Arsenal Women   \n",
       "2    2016  2016-07-10       7921  FA Women's Super League  Chelsea FC Women   \n",
       "3    2016  2016-07-16       7921  FA Women's Super League   Liverpool Women   \n",
       "4    2016  2016-07-17       7921  FA Women's Super League  Chelsea FC Women   \n",
       "\n",
       "                 team2   spi1   spi2   prob1   prob2  ...  importance1  \\\n",
       "0              Reading  51.56  50.42  0.4389  0.2767  ...          NaN   \n",
       "1  Notts County Ladies  46.61  54.03  0.3572  0.3608  ...          NaN   \n",
       "2      Birmingham City  59.85  54.64  0.4799  0.2487  ...          NaN   \n",
       "3  Notts County Ladies  53.00  52.35  0.4289  0.2699  ...          NaN   \n",
       "4        Arsenal Women  59.43  60.99  0.4124  0.3157  ...          NaN   \n",
       "\n",
       "   importance2  score1  score2  xg1  xg2  nsxg1  nsxg2  adj_score1  adj_score2  \n",
       "0          NaN     2.0     0.0  NaN  NaN    NaN    NaN         NaN         NaN  \n",
       "1          NaN     2.0     0.0  NaN  NaN    NaN    NaN         NaN         NaN  \n",
       "2          NaN     1.0     1.0  NaN  NaN    NaN    NaN         NaN         NaN  \n",
       "3          NaN     0.0     0.0  NaN  NaN    NaN    NaN         NaN         NaN  \n",
       "4          NaN     1.0     2.0  NaN  NaN    NaN    NaN         NaN         NaN  \n",
       "\n",
       "[5 rows x 23 columns]"
      ]
     },
     "execution_count": 3,
     "metadata": {},
     "output_type": "execute_result"
    }
   ],
   "source": [
    "matchesRaw.head(5)"
   ]
  },
  {
   "cell_type": "markdown",
   "metadata": {},
   "source": [
    "### Data Cleaning\n",
    "\n",
    "#### There are a lot of values that have NaN values, which really do not add value, so dropping those.\n",
    "#### Also, teams can be one hot encoded."
   ]
  },
  {
   "cell_type": "code",
   "execution_count": 4,
   "metadata": {},
   "outputs": [],
   "source": [
    "matches= matchesRaw.dropna()"
   ]
  },
  {
   "cell_type": "code",
   "execution_count": 5,
   "metadata": {},
   "outputs": [
    {
     "name": "stderr",
     "output_type": "stream",
     "text": [
      "<ipython-input-5-0c6b93fb31d4>:3: SettingWithCopyWarning: \n",
      "A value is trying to be set on a copy of a slice from a DataFrame.\n",
      "Try using .loc[row_indexer,col_indexer] = value instead\n",
      "\n",
      "See the caveats in the documentation: https://pandas.pydata.org/pandas-docs/stable/user_guide/indexing.html#returning-a-view-versus-a-copy\n",
      "  matches['team1ID']=encoder.fit_transform(matches['team1'].astype('str'))\n",
      "<ipython-input-5-0c6b93fb31d4>:4: SettingWithCopyWarning: \n",
      "A value is trying to be set on a copy of a slice from a DataFrame.\n",
      "Try using .loc[row_indexer,col_indexer] = value instead\n",
      "\n",
      "See the caveats in the documentation: https://pandas.pydata.org/pandas-docs/stable/user_guide/indexing.html#returning-a-view-versus-a-copy\n",
      "  matches['team2ID']=encoder.fit_transform(matches['team2'].astype('str'))\n"
     ]
    }
   ],
   "source": [
    "from sklearn.preprocessing import LabelEncoder\n",
    "encoder=LabelEncoder()\n",
    "matches['team1ID']=encoder.fit_transform(matches['team1'].astype('str'))\n",
    "matches['team2ID']=encoder.fit_transform(matches['team2'].astype('str'))"
   ]
  },
  {
   "cell_type": "code",
   "execution_count": 6,
   "metadata": {},
   "outputs": [
    {
     "data": {
      "text/html": [
       "<div>\n",
       "<style scoped>\n",
       "    .dataframe tbody tr th:only-of-type {\n",
       "        vertical-align: middle;\n",
       "    }\n",
       "\n",
       "    .dataframe tbody tr th {\n",
       "        vertical-align: top;\n",
       "    }\n",
       "\n",
       "    .dataframe thead th {\n",
       "        text-align: right;\n",
       "    }\n",
       "</style>\n",
       "<table border=\"1\" class=\"dataframe\">\n",
       "  <thead>\n",
       "    <tr style=\"text-align: right;\">\n",
       "      <th></th>\n",
       "      <th>season</th>\n",
       "      <th>date</th>\n",
       "      <th>league_id</th>\n",
       "      <th>league</th>\n",
       "      <th>team1</th>\n",
       "      <th>team2</th>\n",
       "      <th>spi1</th>\n",
       "      <th>spi2</th>\n",
       "      <th>prob1</th>\n",
       "      <th>prob2</th>\n",
       "      <th>...</th>\n",
       "      <th>score1</th>\n",
       "      <th>score2</th>\n",
       "      <th>xg1</th>\n",
       "      <th>xg2</th>\n",
       "      <th>nsxg1</th>\n",
       "      <th>nsxg2</th>\n",
       "      <th>adj_score1</th>\n",
       "      <th>adj_score2</th>\n",
       "      <th>team1ID</th>\n",
       "      <th>team2ID</th>\n",
       "    </tr>\n",
       "  </thead>\n",
       "  <tbody>\n",
       "    <tr>\n",
       "      <th>10</th>\n",
       "      <td>2016</td>\n",
       "      <td>2016-08-12</td>\n",
       "      <td>1843</td>\n",
       "      <td>French Ligue 1</td>\n",
       "      <td>Bastia</td>\n",
       "      <td>Paris Saint-Germain</td>\n",
       "      <td>51.16</td>\n",
       "      <td>85.68</td>\n",
       "      <td>0.0463</td>\n",
       "      <td>0.8380</td>\n",
       "      <td>...</td>\n",
       "      <td>0.0</td>\n",
       "      <td>1.0</td>\n",
       "      <td>0.97</td>\n",
       "      <td>0.63</td>\n",
       "      <td>0.43</td>\n",
       "      <td>0.45</td>\n",
       "      <td>0.00</td>\n",
       "      <td>1.05</td>\n",
       "      <td>48</td>\n",
       "      <td>294</td>\n",
       "    </tr>\n",
       "    <tr>\n",
       "      <th>11</th>\n",
       "      <td>2016</td>\n",
       "      <td>2016-08-12</td>\n",
       "      <td>1843</td>\n",
       "      <td>French Ligue 1</td>\n",
       "      <td>AS Monaco</td>\n",
       "      <td>Guingamp</td>\n",
       "      <td>68.85</td>\n",
       "      <td>56.48</td>\n",
       "      <td>0.5714</td>\n",
       "      <td>0.1669</td>\n",
       "      <td>...</td>\n",
       "      <td>2.0</td>\n",
       "      <td>2.0</td>\n",
       "      <td>2.45</td>\n",
       "      <td>0.77</td>\n",
       "      <td>1.75</td>\n",
       "      <td>0.42</td>\n",
       "      <td>2.10</td>\n",
       "      <td>2.10</td>\n",
       "      <td>10</td>\n",
       "      <td>191</td>\n",
       "    </tr>\n",
       "    <tr>\n",
       "      <th>12</th>\n",
       "      <td>2016</td>\n",
       "      <td>2016-08-13</td>\n",
       "      <td>2411</td>\n",
       "      <td>Barclays Premier League</td>\n",
       "      <td>Hull City</td>\n",
       "      <td>Leicester City</td>\n",
       "      <td>53.57</td>\n",
       "      <td>66.81</td>\n",
       "      <td>0.3459</td>\n",
       "      <td>0.3621</td>\n",
       "      <td>...</td>\n",
       "      <td>2.0</td>\n",
       "      <td>1.0</td>\n",
       "      <td>0.85</td>\n",
       "      <td>2.77</td>\n",
       "      <td>0.17</td>\n",
       "      <td>1.25</td>\n",
       "      <td>2.10</td>\n",
       "      <td>1.05</td>\n",
       "      <td>205</td>\n",
       "      <td>227</td>\n",
       "    </tr>\n",
       "    <tr>\n",
       "      <th>13</th>\n",
       "      <td>2016</td>\n",
       "      <td>2016-08-13</td>\n",
       "      <td>2411</td>\n",
       "      <td>Barclays Premier League</td>\n",
       "      <td>Crystal Palace</td>\n",
       "      <td>West Bromwich Albion</td>\n",
       "      <td>55.19</td>\n",
       "      <td>58.66</td>\n",
       "      <td>0.4214</td>\n",
       "      <td>0.2939</td>\n",
       "      <td>...</td>\n",
       "      <td>0.0</td>\n",
       "      <td>1.0</td>\n",
       "      <td>1.11</td>\n",
       "      <td>0.68</td>\n",
       "      <td>0.84</td>\n",
       "      <td>1.60</td>\n",
       "      <td>0.00</td>\n",
       "      <td>1.05</td>\n",
       "      <td>115</td>\n",
       "      <td>428</td>\n",
       "    </tr>\n",
       "    <tr>\n",
       "      <th>14</th>\n",
       "      <td>2016</td>\n",
       "      <td>2016-08-13</td>\n",
       "      <td>2411</td>\n",
       "      <td>Barclays Premier League</td>\n",
       "      <td>Everton</td>\n",
       "      <td>Tottenham Hotspur</td>\n",
       "      <td>68.02</td>\n",
       "      <td>73.25</td>\n",
       "      <td>0.3910</td>\n",
       "      <td>0.3401</td>\n",
       "      <td>...</td>\n",
       "      <td>1.0</td>\n",
       "      <td>1.0</td>\n",
       "      <td>0.73</td>\n",
       "      <td>1.11</td>\n",
       "      <td>0.88</td>\n",
       "      <td>1.81</td>\n",
       "      <td>1.05</td>\n",
       "      <td>1.05</td>\n",
       "      <td>136</td>\n",
       "      <td>396</td>\n",
       "    </tr>\n",
       "  </tbody>\n",
       "</table>\n",
       "<p>5 rows × 25 columns</p>\n",
       "</div>"
      ],
      "text/plain": [
       "    season        date  league_id                   league           team1  \\\n",
       "10    2016  2016-08-12       1843           French Ligue 1          Bastia   \n",
       "11    2016  2016-08-12       1843           French Ligue 1       AS Monaco   \n",
       "12    2016  2016-08-13       2411  Barclays Premier League       Hull City   \n",
       "13    2016  2016-08-13       2411  Barclays Premier League  Crystal Palace   \n",
       "14    2016  2016-08-13       2411  Barclays Premier League         Everton   \n",
       "\n",
       "                   team2   spi1   spi2   prob1   prob2  ...  score1  score2  \\\n",
       "10   Paris Saint-Germain  51.16  85.68  0.0463  0.8380  ...     0.0     1.0   \n",
       "11              Guingamp  68.85  56.48  0.5714  0.1669  ...     2.0     2.0   \n",
       "12        Leicester City  53.57  66.81  0.3459  0.3621  ...     2.0     1.0   \n",
       "13  West Bromwich Albion  55.19  58.66  0.4214  0.2939  ...     0.0     1.0   \n",
       "14     Tottenham Hotspur  68.02  73.25  0.3910  0.3401  ...     1.0     1.0   \n",
       "\n",
       "     xg1   xg2  nsxg1  nsxg2  adj_score1  adj_score2  team1ID  team2ID  \n",
       "10  0.97  0.63   0.43   0.45        0.00        1.05       48      294  \n",
       "11  2.45  0.77   1.75   0.42        2.10        2.10       10      191  \n",
       "12  0.85  2.77   0.17   1.25        2.10        1.05      205      227  \n",
       "13  1.11  0.68   0.84   1.60        0.00        1.05      115      428  \n",
       "14  0.73  1.11   0.88   1.81        1.05        1.05      136      396  \n",
       "\n",
       "[5 rows x 25 columns]"
      ]
     },
     "execution_count": 6,
     "metadata": {},
     "output_type": "execute_result"
    }
   ],
   "source": [
    "matches.head(5)"
   ]
  },
  {
   "cell_type": "markdown",
   "metadata": {},
   "source": [
    "### Data Exploration"
   ]
  },
  {
   "cell_type": "markdown",
   "metadata": {},
   "source": [
    "#### Data processing for some data exploration."
   ]
  },
  {
   "cell_type": "code",
   "execution_count": 7,
   "metadata": {},
   "outputs": [],
   "source": [
    "processedData = matchesRaw[['team1','team2','score1','score2','league_id','league','season']]\n",
    "processedData = processedData.dropna()"
   ]
  },
  {
   "cell_type": "markdown",
   "metadata": {},
   "source": [
    "#### Assuming that team1 is the home team and team 2 is the away team "
   ]
  },
  {
   "cell_type": "code",
   "execution_count": 8,
   "metadata": {},
   "outputs": [],
   "source": [
    "TeamScoresHome = processedData.groupby('team1')['score1'].mean().to_frame().reset_index()\n",
    "TeamScoresAway = processedData.groupby('team2')['score2'].mean().to_frame().reset_index()"
   ]
  },
  {
   "cell_type": "code",
   "execution_count": 9,
   "metadata": {},
   "outputs": [],
   "source": [
    "CompareTeamScoresHomeAndAway = TeamScoresHome[['team1','score1']]\n",
    "CompareTeamScoresHomeAndAway['score2'] = TeamScoresAway['score2']"
   ]
  },
  {
   "cell_type": "markdown",
   "metadata": {},
   "source": [
    "#### Identifying, A team scores more at home or away"
   ]
  },
  {
   "cell_type": "code",
   "execution_count": 10,
   "metadata": {},
   "outputs": [
    {
     "data": {
      "text/html": [
       "<div>\n",
       "<style scoped>\n",
       "    .dataframe tbody tr th:only-of-type {\n",
       "        vertical-align: middle;\n",
       "    }\n",
       "\n",
       "    .dataframe tbody tr th {\n",
       "        vertical-align: top;\n",
       "    }\n",
       "\n",
       "    .dataframe thead th {\n",
       "        text-align: right;\n",
       "    }\n",
       "</style>\n",
       "<table border=\"1\" class=\"dataframe\">\n",
       "  <thead>\n",
       "    <tr style=\"text-align: right;\">\n",
       "      <th></th>\n",
       "      <th>Team</th>\n",
       "      <th>Mean Home Scores</th>\n",
       "      <th>Mean Away Scores</th>\n",
       "    </tr>\n",
       "  </thead>\n",
       "  <tbody>\n",
       "    <tr>\n",
       "      <th>0</th>\n",
       "      <td>1. FC Heidenheim 1846</td>\n",
       "      <td>1.849057</td>\n",
       "      <td>1.076923</td>\n",
       "    </tr>\n",
       "    <tr>\n",
       "      <th>1</th>\n",
       "      <td>1. FC Kaiserslautern</td>\n",
       "      <td>1.058824</td>\n",
       "      <td>1.411765</td>\n",
       "    </tr>\n",
       "    <tr>\n",
       "      <th>2</th>\n",
       "      <td>1. FC Magdeburg</td>\n",
       "      <td>0.941176</td>\n",
       "      <td>1.117647</td>\n",
       "    </tr>\n",
       "    <tr>\n",
       "      <th>3</th>\n",
       "      <td>1. FC Nürnberg</td>\n",
       "      <td>1.230769</td>\n",
       "      <td>1.346154</td>\n",
       "    </tr>\n",
       "    <tr>\n",
       "      <th>4</th>\n",
       "      <td>1. FC Union Berlin</td>\n",
       "      <td>1.754717</td>\n",
       "      <td>1.192308</td>\n",
       "    </tr>\n",
       "    <tr>\n",
       "      <th>...</th>\n",
       "      <td>...</td>\n",
       "      <td>...</td>\n",
       "      <td>...</td>\n",
       "    </tr>\n",
       "    <tr>\n",
       "      <th>791</th>\n",
       "      <td>Yokohama FC</td>\n",
       "      <td>1.200000</td>\n",
       "      <td>1.300000</td>\n",
       "    </tr>\n",
       "    <tr>\n",
       "      <th>792</th>\n",
       "      <td>Young Boys</td>\n",
       "      <td>2.600000</td>\n",
       "      <td>1.812500</td>\n",
       "    </tr>\n",
       "    <tr>\n",
       "      <th>793</th>\n",
       "      <td>Zenit St Petersburg</td>\n",
       "      <td>2.370968</td>\n",
       "      <td>1.281250</td>\n",
       "    </tr>\n",
       "    <tr>\n",
       "      <th>794</th>\n",
       "      <td>Zlín</td>\n",
       "      <td>0.333333</td>\n",
       "      <td>0.000000</td>\n",
       "    </tr>\n",
       "    <tr>\n",
       "      <th>795</th>\n",
       "      <td>Östersunds FK</td>\n",
       "      <td>1.442623</td>\n",
       "      <td>1.166667</td>\n",
       "    </tr>\n",
       "  </tbody>\n",
       "</table>\n",
       "<p>796 rows × 3 columns</p>\n",
       "</div>"
      ],
      "text/plain": [
       "                      Team  Mean Home Scores  Mean Away Scores\n",
       "0    1. FC Heidenheim 1846          1.849057          1.076923\n",
       "1     1. FC Kaiserslautern          1.058824          1.411765\n",
       "2          1. FC Magdeburg          0.941176          1.117647\n",
       "3           1. FC Nürnberg          1.230769          1.346154\n",
       "4       1. FC Union Berlin          1.754717          1.192308\n",
       "..                     ...               ...               ...\n",
       "791            Yokohama FC          1.200000          1.300000\n",
       "792             Young Boys          2.600000          1.812500\n",
       "793    Zenit St Petersburg          2.370968          1.281250\n",
       "794                   Zlín          0.333333          0.000000\n",
       "795          Östersunds FK          1.442623          1.166667\n",
       "\n",
       "[796 rows x 3 columns]"
      ]
     },
     "execution_count": 10,
     "metadata": {},
     "output_type": "execute_result"
    }
   ],
   "source": [
    "CompareTeamScoresHomeAndAway = CompareTeamScoresHomeAndAway.rename(columns={\"team1\":  'Team' ,\"score1\" : 'Mean Home Scores' ,'score2' : \"Mean Away Scores\"})\n",
    "CompareTeamScoresHomeAndAway"
   ]
  },
  {
   "cell_type": "markdown",
   "metadata": {},
   "source": [
    "### Understanding the Dataset for Regression\n",
    "#### My Understanding of the dataset and how the predictions can work are as follows\n",
    "#### Dataset has a lot of columns, I'm assuming that all the columns have some impact on the match between the two teams and hence keeping them in. \n",
    "\n",
    "#### The primary columns that give a logical sense in calculating the score of for a team are, \n",
    "\n",
    "#### 1. The season in which the match is happening\n",
    "#### 2. The opponent teamID against which the target team is playing.\n",
    "#### 3. The league_id, different teams can excel in different leagues\n",
    "#### 4. The score of the opponent team\n",
    "\n",
    "#### Date Column, team Names (teamIDs will be used), League Name (league ID will be used), don't really add value, so dropping that column."
   ]
  },
  {
   "cell_type": "code",
   "execution_count": 11,
   "metadata": {},
   "outputs": [],
   "source": [
    "#matches.loc[(matches['league_id']==1843) & (matches['date']=='2016-08-12')]"
   ]
  },
  {
   "cell_type": "code",
   "execution_count": 12,
   "metadata": {},
   "outputs": [],
   "source": [
    "MatchesForAnalysis = matches.drop(['date', 'team1','team2','league'], axis = 1)"
   ]
  },
  {
   "cell_type": "markdown",
   "metadata": {},
   "source": [
    "### Preparing data for regression analysis\n",
    "#### 1. Get the score column as the prediction column.\n",
    "#### 2. Get the matches data without the score1 column.\n",
    "#### 3. Prepare the train and test data accordingly. "
   ]
  },
  {
   "cell_type": "code",
   "execution_count": 13,
   "metadata": {},
   "outputs": [],
   "source": [
    "Score = MatchesForAnalysis[['score1']]\n",
    "MatchesForAnalysisWithoutScore = MatchesForAnalysis.drop(['score1'], axis = 1)\n",
    "\n",
    "# Split Total Data into Train and Test\n",
    "from sklearn.model_selection import train_test_split\n",
    "\n",
    "X_train, X_validation, Y_train, Y_validation = train_test_split(MatchesForAnalysisWithoutScore, Score, test_size=0.20)"
   ]
  },
  {
   "cell_type": "markdown",
   "metadata": {},
   "source": [
    "### Linear Regression"
   ]
  },
  {
   "cell_type": "code",
   "execution_count": 14,
   "metadata": {},
   "outputs": [
    {
     "name": "stdout",
     "output_type": "stream",
     "text": [
      "[[ 1.58214784]\n",
      " [-0.02777424]\n",
      " [ 1.71159824]\n",
      " ...\n",
      " [-0.03336611]\n",
      " [ 1.08039236]\n",
      " [ 0.76523442]]\n"
     ]
    }
   ],
   "source": [
    "from sklearn.linear_model import LinearRegression\n",
    "from sklearn.metrics import accuracy_score\n",
    "\n",
    "linearReg = LinearRegression()\n",
    "linearReg.fit(X_train,Y_train)\n",
    "\n",
    "predictionsOfTheValidationSet = linearReg.predict(X_validation)\n",
    "predictionsOfTheTrainSet = linearReg.predict(X_train)\n",
    "print(predictionsOfTheValidationSet)"
   ]
  },
  {
   "cell_type": "markdown",
   "metadata": {},
   "source": [
    "### Processing the results \n",
    "#### The results need to be modiied a bit to round them to nearest integer, as the soccer score cannot be in decimals.\n",
    "### Accuracy calculation of the predicted score against the actual score."
   ]
  },
  {
   "cell_type": "code",
   "execution_count": 15,
   "metadata": {},
   "outputs": [
    {
     "name": "stdout",
     "output_type": "stream",
     "text": [
      "Validation Data Accuracy : 0.985480943738657\n",
      "Train Data Accuracy : 0.9808623298033283\n"
     ]
    }
   ],
   "source": [
    "predictionsOfTheValidationSet = np.rint(predictionsOfTheValidationSet); # Rounding to nearest integer \n",
    "predictionsOfTheValidationSet[predictionsOfTheValidationSet < 0] = 0;   # If rounding set the value to less than 0, set it to 0.\n",
    "predictionsOfTheValidationSet[predictionsOfTheValidationSet == -0] = 0;\n",
    "\n",
    "predictionsOfTheTrainSet = np.rint(predictionsOfTheTrainSet); # Rounding to nearest integer \n",
    "predictionsOfTheTrainSet[predictionsOfTheTrainSet < 0] = 0;   # If rounding set the value to less than 0, set it to 0.\n",
    "predictionsOfTheTrainSet[predictionsOfTheTrainSet == -0] = 0;\n",
    "\n",
    "print(\"Validation Data Accuracy : \"+ str(accuracy_score(Y_validation['score1'].tolist(), predictionsOfTheValidationSet)))\n",
    "print(\"Train Data Accuracy : \" + str(accuracy_score(Y_train['score1'].tolist(), predictionsOfTheTrainSet)))"
   ]
  },
  {
   "cell_type": "code",
   "execution_count": 16,
   "metadata": {},
   "outputs": [],
   "source": [
    "### Plotting the results\n",
    "#### Plotting to compare multiple Regressors"
   ]
  },
  {
   "cell_type": "code",
   "execution_count": 17,
   "metadata": {},
   "outputs": [],
   "source": [
    "PlottingData = pd.DataFrame(columns=['Regressor','Accuracy'])\n",
    "temp = {'Regressor': \"Linear Regressor\", 'Accuracy': accuracy_score(Y_validation['score1'].tolist(), predictionsOfTheValidationSet)}\n",
    "PlottingData = PlottingData.append(temp, ignore_index=True)"
   ]
  },
  {
   "cell_type": "markdown",
   "metadata": {},
   "source": [
    "###### Similar analysis can be performed for score2 column"
   ]
  },
  {
   "cell_type": "markdown",
   "metadata": {},
   "source": [
    "### Neural Network Regressor"
   ]
  },
  {
   "cell_type": "code",
   "execution_count": 18,
   "metadata": {},
   "outputs": [
    {
     "name": "stderr",
     "output_type": "stream",
     "text": [
      "/Users/sdamaraju/opt/anaconda3/lib/python3.8/site-packages/sklearn/utils/validation.py:73: DataConversionWarning: A column-vector y was passed when a 1d array was expected. Please change the shape of y to (n_samples, ), for example using ravel().\n",
      "  return f(**kwargs)\n"
     ]
    },
    {
     "name": "stdout",
     "output_type": "stream",
     "text": [
      "[ 1.31208648 -0.29891922  1.64346591 ... -0.16548297  0.86483284\n",
      "  0.84991308]\n"
     ]
    }
   ],
   "source": [
    "from sklearn.neural_network import MLPRegressor\n",
    "nnReg = MLPRegressor().fit(X_train, Y_train)\n",
    "\n",
    "predictionsOfTheValidationSet = nnReg.predict(X_validation)\n",
    "predictionsOfTheTrainSet = nnReg.predict(X_train)\n",
    "\n",
    "print(predictionsOfTheValidationSet)"
   ]
  },
  {
   "cell_type": "markdown",
   "metadata": {},
   "source": [
    "### Processing the results \n",
    "#### The results need to be modiied a bit to round them to nearest integer, as the soccer score cannot be in decimals.\n",
    "### Accuracy calculation of the predicted score against the actual score."
   ]
  },
  {
   "cell_type": "code",
   "execution_count": 19,
   "metadata": {},
   "outputs": [
    {
     "name": "stdout",
     "output_type": "stream",
     "text": [
      "Validation Data Accuracy : 0.9322444041137327\n",
      "Train Data Accuracy : 0.9299546142208774\n"
     ]
    }
   ],
   "source": [
    "predictionsOfTheValidationSet = np.rint(predictionsOfTheValidationSet); # Rounding to nearest integer \n",
    "predictionsOfTheValidationSet[predictionsOfTheValidationSet < 0] = 0;   # If rounding set the value to less than 0, set it to 0.\n",
    "predictionsOfTheValidationSet[predictionsOfTheValidationSet == -0] = 0;\n",
    "\n",
    "predictionsOfTheTrainSet = np.rint(predictionsOfTheTrainSet); # Rounding to nearest integer \n",
    "predictionsOfTheTrainSet[predictionsOfTheTrainSet < 0] = 0;   # If rounding set the value to less than 0, set it to 0.\n",
    "predictionsOfTheTrainSet[predictionsOfTheTrainSet == -0] = 0;\n",
    "\n",
    "print(\"Validation Data Accuracy : \"+ str(accuracy_score(Y_validation['score1'].tolist(), predictionsOfTheValidationSet)))\n",
    "print(\"Train Data Accuracy : \" + str(accuracy_score(Y_train['score1'].tolist(), predictionsOfTheTrainSet)))"
   ]
  },
  {
   "cell_type": "code",
   "execution_count": 20,
   "metadata": {},
   "outputs": [],
   "source": [
    "temp = {'Regressor': \"Neural network Regressor\", 'Accuracy': accuracy_score(Y_validation['score1'].tolist(), predictionsOfTheValidationSet)}\n",
    "PlottingData = PlottingData.append(temp, ignore_index=True)"
   ]
  },
  {
   "cell_type": "markdown",
   "metadata": {},
   "source": [
    "### Random Forest Regressor"
   ]
  },
  {
   "cell_type": "code",
   "execution_count": 21,
   "metadata": {},
   "outputs": [
    {
     "name": "stderr",
     "output_type": "stream",
     "text": [
      "<ipython-input-21-cee352fd1f50>:5: DataConversionWarning: A column-vector y was passed when a 1d array was expected. Please change the shape of y to (n_samples,), for example using ravel().\n",
      "  randomReg.fit(X_train, Y_train)\n"
     ]
    },
    {
     "name": "stdout",
     "output_type": "stream",
     "text": [
      "[2.   0.   2.07 ... 0.   1.   1.  ]\n"
     ]
    }
   ],
   "source": [
    "from sklearn.ensemble import RandomForestRegressor\n",
    "from sklearn.datasets import make_regression\n",
    "\n",
    "randomReg = RandomForestRegressor()\n",
    "randomReg.fit(X_train, Y_train)\n",
    "predictionsOfTheValidationSet = randomReg.predict(X_validation)\n",
    "predictionsOfTheTrainSet = randomReg.predict(X_train)\n",
    "\n",
    "print(predictionsOfTheValidationSet)"
   ]
  },
  {
   "cell_type": "markdown",
   "metadata": {},
   "source": [
    "### Processing the results \n",
    "#### The results need to be modiied a bit to round them to nearest integer, as the soccer score cannot be in decimals.\n",
    "### Accuracy calculation of the predicted score against the actual score."
   ]
  },
  {
   "cell_type": "code",
   "execution_count": 22,
   "metadata": {},
   "outputs": [
    {
     "name": "stdout",
     "output_type": "stream",
     "text": [
      "Validation Data Accuracy : 0.9948578342407743\n",
      "Train Data Accuracy : 0.9996217851739788\n"
     ]
    }
   ],
   "source": [
    "predictionsOfTheValidationSet = np.rint(predictionsOfTheValidationSet); # Rounding to nearest integer \n",
    "predictionsOfTheValidationSet[predictionsOfTheValidationSet < 0] = 0;   # If rounding set the value to less than 0, set it to 0.\n",
    "predictionsOfTheValidationSet[predictionsOfTheValidationSet == -0] = 0;\n",
    "\n",
    "predictionsOfTheTrainSet = np.rint(predictionsOfTheTrainSet); # Rounding to nearest integer \n",
    "predictionsOfTheTrainSet[predictionsOfTheTrainSet < 0] = 0;   # If rounding set the value to less than 0, set it to 0.\n",
    "predictionsOfTheTrainSet[predictionsOfTheTrainSet == -0] = 0;\n",
    "\n",
    "print(\"Validation Data Accuracy : \"+ str(accuracy_score(Y_validation['score1'].tolist(), predictionsOfTheValidationSet)))\n",
    "print(\"Train Data Accuracy : \" + str(accuracy_score(Y_train['score1'].tolist(), predictionsOfTheTrainSet)))"
   ]
  },
  {
   "cell_type": "code",
   "execution_count": 23,
   "metadata": {},
   "outputs": [
    {
     "data": {
      "text/html": [
       "<div>\n",
       "<style scoped>\n",
       "    .dataframe tbody tr th:only-of-type {\n",
       "        vertical-align: middle;\n",
       "    }\n",
       "\n",
       "    .dataframe tbody tr th {\n",
       "        vertical-align: top;\n",
       "    }\n",
       "\n",
       "    .dataframe thead th {\n",
       "        text-align: right;\n",
       "    }\n",
       "</style>\n",
       "<table border=\"1\" class=\"dataframe\">\n",
       "  <thead>\n",
       "    <tr style=\"text-align: right;\">\n",
       "      <th></th>\n",
       "      <th>Regressor</th>\n",
       "      <th>Accuracy</th>\n",
       "    </tr>\n",
       "  </thead>\n",
       "  <tbody>\n",
       "    <tr>\n",
       "      <th>0</th>\n",
       "      <td>Linear Regressor</td>\n",
       "      <td>0.985481</td>\n",
       "    </tr>\n",
       "    <tr>\n",
       "      <th>1</th>\n",
       "      <td>Neural network Regressor</td>\n",
       "      <td>0.932244</td>\n",
       "    </tr>\n",
       "    <tr>\n",
       "      <th>2</th>\n",
       "      <td>Random Forest Regressor</td>\n",
       "      <td>0.994858</td>\n",
       "    </tr>\n",
       "  </tbody>\n",
       "</table>\n",
       "</div>"
      ],
      "text/plain": [
       "                  Regressor  Accuracy\n",
       "0          Linear Regressor  0.985481\n",
       "1  Neural network Regressor  0.932244\n",
       "2   Random Forest Regressor  0.994858"
      ]
     },
     "execution_count": 23,
     "metadata": {},
     "output_type": "execute_result"
    }
   ],
   "source": [
    "temp = {'Regressor': \"Random Forest Regressor\", 'Accuracy': accuracy_score(Y_validation['score1'].tolist(), predictionsOfTheValidationSet)}\n",
    "PlottingData = PlottingData.append(temp, ignore_index=True)\n",
    "PlottingData"
   ]
  },
  {
   "cell_type": "code",
   "execution_count": 24,
   "metadata": {},
   "outputs": [
    {
     "data": {
      "text/plain": [
       "([<matplotlib.axis.XTick at 0x7fe557d79eb0>,\n",
       "  <matplotlib.axis.XTick at 0x7fe557d79e80>,\n",
       "  <matplotlib.axis.XTick at 0x7fe557d2c580>],\n",
       " [Text(0, 0, 'Linear Regressor'),\n",
       "  Text(0, 0, 'Neural Network Regressor'),\n",
       "  Text(0, 0, 'Random Forest Regressor')])"
      ]
     },
     "execution_count": 24,
     "metadata": {},
     "output_type": "execute_result"
    },
    {
     "data": {
      "image/png": "[encoded data removed]",
      "text/plain": [
       "<Figure size 432x288 with 1 Axes>"
      ]
     },
     "metadata": {
      "needs_background": "light"
     },
     "output_type": "display_data"
    }
   ],
   "source": [
    "settings = PlottingData.plot(kind='bar')\n",
    "settings.set(ylabel='Accuracy of score prediction')\n",
    "plt.title(\"Accuracy vs Regressor used\")\n",
    "plt.xticks(np.arange(3) + .1, ('Linear Regressor', 'Neural Network Regressor', 'Random Forest Regressor'))"
   ]
  },
  {
   "cell_type": "markdown",
   "metadata": {},
   "source": [
    "### Lets now predict scores for both teams in a match."
   ]
  },
  {
   "cell_type": "markdown",
   "metadata": {},
   "source": [
    "### Preparing data for regression analysis\n",
    "#### 1. Get the score1 and score2 columns as the prediction columns.\n",
    "#### 2. Get the matches data without the score1 and score 2 columns.\n",
    "#### 3. Prepare the train and test data accordingly. "
   ]
  },
  {
   "cell_type": "code",
   "execution_count": 25,
   "metadata": {},
   "outputs": [],
   "source": [
    "Score = MatchesForAnalysis[['score1','score2']]\n",
    "MatchesForAnalysisWithoutScore = MatchesForAnalysis.drop(['score1','score2'], axis = 1)\n",
    "\n",
    "# Split Total Data into Train and Test\n",
    "from sklearn.model_selection import train_test_split\n",
    "\n",
    "X_train, X_validation, Y_train, Y_validation = train_test_split(MatchesForAnalysisWithoutScore, Score, test_size=0.20)"
   ]
  },
  {
   "cell_type": "markdown",
   "metadata": {},
   "source": [
    "### Using the Random Forest Regressor for predicting both the scores (as it was the best from the 3 regressors used above)"
   ]
  },
  {
   "cell_type": "code",
   "execution_count": 26,
   "metadata": {},
   "outputs": [],
   "source": [
    "from sklearn.ensemble import RandomForestRegressor\n",
    "from sklearn.datasets import make_regression\n",
    "\n",
    "randomReg = RandomForestRegressor()\n",
    "randomReg.fit(X_train, Y_train)\n",
    "predictionsOfTheValidationSet = randomReg.predict(X_validation)\n",
    "predictionsOfTheTrainSet = randomReg.predict(X_train)"
   ]
  },
  {
   "cell_type": "markdown",
   "metadata": {},
   "source": [
    "### Processing the predicitions\n",
    "#### The results need to be modiied a bit to round them to nearest integer, as the soccer score cannot be in decimals.\n",
    "\n",
    "### Accuracy calculation in Multidimension predictions scenario\n",
    "\n",
    "#### I calculated by comparing both the two dimensional arrays (predictions and actuals).\n",
    "#### Whenever matched, I incremented the success counter by 1 and finally divided the success counter \n",
    "#### by the length of the predictions set."
   ]
  },
  {
   "cell_type": "code",
   "execution_count": 27,
   "metadata": {},
   "outputs": [
    {
     "name": "stdout",
     "output_type": "stream",
     "text": [
      "Test Data Accuracy : 0.9860859044162129\n"
     ]
    }
   ],
   "source": [
    "# Process the predictions\n",
    "for values in predictionsOfTheValidationSet: \n",
    "    values[0]=np.rint(values[0])\n",
    "    values[1]=np.rint(values[1])\n",
    "    if (values[0] < 0): values[0] = 0\n",
    "    if (values[1] < 0): values[1] = 0    \n",
    "\n",
    "# Accuracy score calculation        \n",
    "successful = 0\n",
    "index = 0\n",
    "actuals=Y_validation.values\n",
    "for predictions in predictionsOfTheValidationSet: \n",
    "    if(predictions[0]==actuals[index][0] and predictions[1]==actuals[index][1]): successful = successful + 1\n",
    "    index = index + 1            \n",
    "\n",
    "print(\"Test Data Accuracy : \" + str(successful/len(predictionsOfTheValidationSet)))                 \n"
   ]
  },
  {
   "cell_type": "markdown",
   "metadata": {},
   "source": [
    "### Conclusions and further improvements:\n",
    "### Better accuracy for Neural networks could have been achieved if we knew and understood all the features in the data set.\n",
    "### Future work can be understanding the features that actually impact the analysis and remove the ones that have less impact, to increase the accuracy."
   ]
  },
  {
   "cell_type": "code",
   "execution_count": null,
   "metadata": {},
   "outputs": [],
   "source": []
  }
 ],
 "metadata": {
  "kernelspec": {
   "display_name": "Python 3",
   "language": "python",
   "name": "python3"
  },
  "language_info": {
   "codemirror_mode": {
    "name": "ipython",
    "version": 3
   },
   "file_extension": ".py",
   "mimetype": "text/x-python",
   "name": "python",
   "nbconvert_exporter": "python",
   "pygments_lexer": "ipython3",
   "version": "3.8.3"
  }
 },
 "nbformat": 4,
 "nbformat_minor": 4
}
